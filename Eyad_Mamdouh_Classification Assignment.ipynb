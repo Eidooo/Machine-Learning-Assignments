{
 "cells": [
  {
   "cell_type": "code",
   "execution_count": 42,
   "id": "38ff21b1",
   "metadata": {},
   "outputs": [],
   "source": [
    "import numpy as np\n",
    "import pandas as pd\n",
    "import math\n",
    "import sklearn.metrics\n",
    "import matplotlib.pyplot as plt\n",
    "from sklearn.linear_model import LogisticRegression\n",
    "from sklearn.metrics import classification_report, confusion_matrix\n",
    "from sklearn.model_selection import train_test_split\n",
    "from sklearn.model_selection import KFold\n",
    "from sklearn.model_selection import StratifiedKFold\n",
    "from sklearn.metrics import confusion_matrix\n",
    "from sklearn.metrics import accuracy_score\n",
    "from sklearn.metrics import r2_score\n",
    "from sklearn import metrics"
   ]
  },
  {
   "cell_type": "code",
   "execution_count": 29,
   "id": "c096ec62",
   "metadata": {},
   "outputs": [],
   "source": [
    "my_data=pd.read_csv(\"fraud data.csv\")"
   ]
  },
  {
   "cell_type": "code",
   "execution_count": 4,
   "id": "e9d33440",
   "metadata": {},
   "outputs": [],
   "source": [
    "my_data[\"type\"] = my_data[\"type\"].map({\"CASH_OUT\": 1, \"PAYMENT\": 2,\"CASH_IN\": 3, \"TRANSFER\": 4,\"DEBIT\": 5})\n",
    "my_data[\"isFraud\"] = my_data[\"isFraud\"].map({0: \"No Fraud\", 1: \"Fraud\"})"
   ]
  },
  {
   "cell_type": "code",
   "execution_count": 5,
   "id": "37ed78c9",
   "metadata": {},
   "outputs": [
    {
     "data": {
      "text/html": [
       "<div>\n",
       "<style scoped>\n",
       "    .dataframe tbody tr th:only-of-type {\n",
       "        vertical-align: middle;\n",
       "    }\n",
       "\n",
       "    .dataframe tbody tr th {\n",
       "        vertical-align: top;\n",
       "    }\n",
       "\n",
       "    .dataframe thead th {\n",
       "        text-align: right;\n",
       "    }\n",
       "</style>\n",
       "<table border=\"1\" class=\"dataframe\">\n",
       "  <thead>\n",
       "    <tr style=\"text-align: right;\">\n",
       "      <th></th>\n",
       "      <th>step</th>\n",
       "      <th>type</th>\n",
       "      <th>amount</th>\n",
       "      <th>nameOrig</th>\n",
       "      <th>oldbalanceOrg</th>\n",
       "      <th>newbalanceOrig</th>\n",
       "      <th>nameDest</th>\n",
       "      <th>oldbalanceDest</th>\n",
       "      <th>newbalanceDest</th>\n",
       "      <th>isFraud</th>\n",
       "      <th>isFlaggedFraud</th>\n",
       "    </tr>\n",
       "  </thead>\n",
       "  <tbody>\n",
       "    <tr>\n",
       "      <th>0</th>\n",
       "      <td>1</td>\n",
       "      <td>2</td>\n",
       "      <td>9839.64</td>\n",
       "      <td>C1231006815</td>\n",
       "      <td>170136.00</td>\n",
       "      <td>160296.36</td>\n",
       "      <td>M1979787155</td>\n",
       "      <td>0.00</td>\n",
       "      <td>0.00</td>\n",
       "      <td>No Fraud</td>\n",
       "      <td>0</td>\n",
       "    </tr>\n",
       "    <tr>\n",
       "      <th>1</th>\n",
       "      <td>1</td>\n",
       "      <td>2</td>\n",
       "      <td>1864.28</td>\n",
       "      <td>C1666544295</td>\n",
       "      <td>21249.00</td>\n",
       "      <td>19384.72</td>\n",
       "      <td>M2044282225</td>\n",
       "      <td>0.00</td>\n",
       "      <td>0.00</td>\n",
       "      <td>No Fraud</td>\n",
       "      <td>0</td>\n",
       "    </tr>\n",
       "    <tr>\n",
       "      <th>2</th>\n",
       "      <td>1</td>\n",
       "      <td>4</td>\n",
       "      <td>181.00</td>\n",
       "      <td>C1305486145</td>\n",
       "      <td>181.00</td>\n",
       "      <td>0.00</td>\n",
       "      <td>C553264065</td>\n",
       "      <td>0.00</td>\n",
       "      <td>0.00</td>\n",
       "      <td>Fraud</td>\n",
       "      <td>0</td>\n",
       "    </tr>\n",
       "    <tr>\n",
       "      <th>3</th>\n",
       "      <td>1</td>\n",
       "      <td>1</td>\n",
       "      <td>181.00</td>\n",
       "      <td>C840083671</td>\n",
       "      <td>181.00</td>\n",
       "      <td>0.00</td>\n",
       "      <td>C38997010</td>\n",
       "      <td>21182.00</td>\n",
       "      <td>0.00</td>\n",
       "      <td>Fraud</td>\n",
       "      <td>0</td>\n",
       "    </tr>\n",
       "    <tr>\n",
       "      <th>4</th>\n",
       "      <td>1</td>\n",
       "      <td>2</td>\n",
       "      <td>11668.14</td>\n",
       "      <td>C2048537720</td>\n",
       "      <td>41554.00</td>\n",
       "      <td>29885.86</td>\n",
       "      <td>M1230701703</td>\n",
       "      <td>0.00</td>\n",
       "      <td>0.00</td>\n",
       "      <td>No Fraud</td>\n",
       "      <td>0</td>\n",
       "    </tr>\n",
       "    <tr>\n",
       "      <th>...</th>\n",
       "      <td>...</td>\n",
       "      <td>...</td>\n",
       "      <td>...</td>\n",
       "      <td>...</td>\n",
       "      <td>...</td>\n",
       "      <td>...</td>\n",
       "      <td>...</td>\n",
       "      <td>...</td>\n",
       "      <td>...</td>\n",
       "      <td>...</td>\n",
       "      <td>...</td>\n",
       "    </tr>\n",
       "    <tr>\n",
       "      <th>6362615</th>\n",
       "      <td>743</td>\n",
       "      <td>1</td>\n",
       "      <td>339682.13</td>\n",
       "      <td>C786484425</td>\n",
       "      <td>339682.13</td>\n",
       "      <td>0.00</td>\n",
       "      <td>C776919290</td>\n",
       "      <td>0.00</td>\n",
       "      <td>339682.13</td>\n",
       "      <td>Fraud</td>\n",
       "      <td>0</td>\n",
       "    </tr>\n",
       "    <tr>\n",
       "      <th>6362616</th>\n",
       "      <td>743</td>\n",
       "      <td>4</td>\n",
       "      <td>6311409.28</td>\n",
       "      <td>C1529008245</td>\n",
       "      <td>6311409.28</td>\n",
       "      <td>0.00</td>\n",
       "      <td>C1881841831</td>\n",
       "      <td>0.00</td>\n",
       "      <td>0.00</td>\n",
       "      <td>Fraud</td>\n",
       "      <td>0</td>\n",
       "    </tr>\n",
       "    <tr>\n",
       "      <th>6362617</th>\n",
       "      <td>743</td>\n",
       "      <td>1</td>\n",
       "      <td>6311409.28</td>\n",
       "      <td>C1162922333</td>\n",
       "      <td>6311409.28</td>\n",
       "      <td>0.00</td>\n",
       "      <td>C1365125890</td>\n",
       "      <td>68488.84</td>\n",
       "      <td>6379898.11</td>\n",
       "      <td>Fraud</td>\n",
       "      <td>0</td>\n",
       "    </tr>\n",
       "    <tr>\n",
       "      <th>6362618</th>\n",
       "      <td>743</td>\n",
       "      <td>4</td>\n",
       "      <td>850002.52</td>\n",
       "      <td>C1685995037</td>\n",
       "      <td>850002.52</td>\n",
       "      <td>0.00</td>\n",
       "      <td>C2080388513</td>\n",
       "      <td>0.00</td>\n",
       "      <td>0.00</td>\n",
       "      <td>Fraud</td>\n",
       "      <td>0</td>\n",
       "    </tr>\n",
       "    <tr>\n",
       "      <th>6362619</th>\n",
       "      <td>743</td>\n",
       "      <td>1</td>\n",
       "      <td>850002.52</td>\n",
       "      <td>C1280323807</td>\n",
       "      <td>850002.52</td>\n",
       "      <td>0.00</td>\n",
       "      <td>C873221189</td>\n",
       "      <td>6510099.11</td>\n",
       "      <td>7360101.63</td>\n",
       "      <td>Fraud</td>\n",
       "      <td>0</td>\n",
       "    </tr>\n",
       "  </tbody>\n",
       "</table>\n",
       "<p>6362620 rows × 11 columns</p>\n",
       "</div>"
      ],
      "text/plain": [
       "         step  type      amount     nameOrig  oldbalanceOrg  newbalanceOrig  \\\n",
       "0           1     2     9839.64  C1231006815      170136.00       160296.36   \n",
       "1           1     2     1864.28  C1666544295       21249.00        19384.72   \n",
       "2           1     4      181.00  C1305486145         181.00            0.00   \n",
       "3           1     1      181.00   C840083671         181.00            0.00   \n",
       "4           1     2    11668.14  C2048537720       41554.00        29885.86   \n",
       "...       ...   ...         ...          ...            ...             ...   \n",
       "6362615   743     1   339682.13   C786484425      339682.13            0.00   \n",
       "6362616   743     4  6311409.28  C1529008245     6311409.28            0.00   \n",
       "6362617   743     1  6311409.28  C1162922333     6311409.28            0.00   \n",
       "6362618   743     4   850002.52  C1685995037      850002.52            0.00   \n",
       "6362619   743     1   850002.52  C1280323807      850002.52            0.00   \n",
       "\n",
       "            nameDest  oldbalanceDest  newbalanceDest   isFraud  isFlaggedFraud  \n",
       "0        M1979787155            0.00            0.00  No Fraud               0  \n",
       "1        M2044282225            0.00            0.00  No Fraud               0  \n",
       "2         C553264065            0.00            0.00     Fraud               0  \n",
       "3          C38997010        21182.00            0.00     Fraud               0  \n",
       "4        M1230701703            0.00            0.00  No Fraud               0  \n",
       "...              ...             ...             ...       ...             ...  \n",
       "6362615   C776919290            0.00       339682.13     Fraud               0  \n",
       "6362616  C1881841831            0.00            0.00     Fraud               0  \n",
       "6362617  C1365125890        68488.84      6379898.11     Fraud               0  \n",
       "6362618  C2080388513            0.00            0.00     Fraud               0  \n",
       "6362619   C873221189      6510099.11      7360101.63     Fraud               0  \n",
       "\n",
       "[6362620 rows x 11 columns]"
      ]
     },
     "execution_count": 5,
     "metadata": {},
     "output_type": "execute_result"
    }
   ],
   "source": [
    "my_data"
   ]
  },
  {
   "cell_type": "code",
   "execution_count": 8,
   "id": "1965f35e",
   "metadata": {},
   "outputs": [],
   "source": [
    "x=my_data.drop('isFraud',axis=1)\n",
    "y=my_data['isFraud']\n",
    "for i in range(1,7):\n",
    "    max_x=max(x.iloc[:,i])\n",
    "    min_x=min(x.iloc[:,i])\n",
    "    x.iloc[:,i]=(x.iloc[:,i]-min_x)/(max_x-min_x)\n"
   ]
  },
  {
   "cell_type": "code",
   "execution_count": 25,
   "id": "b90a0136",
   "metadata": {},
   "outputs": [],
   "source": [
    "x_train, x_test, y_train, y_test = train_test_split(x, y, test_size=0.4, random_state=42)\n",
    "x_cv, x_test_new=np.split(x_test, 2)\n",
    "y_cv , y_test_new=np.split(y_test, 2)"
   ]
  },
  {
   "cell_type": "code",
   "execution_count": 11,
   "id": "ad396237",
   "metadata": {},
   "outputs": [],
   "source": [
    "y_train_new=np.zeros(len(y_train))\n",
    "for i in range (len(y_train)):\n",
    "    if y_train.iloc[i] == 'Fraud':\n",
    "        y_train_new[i] =1 \n",
    "y_train_new=pd.DataFrame(y_train_new)"
   ]
  },
  {
   "cell_type": "code",
   "execution_count": 12,
   "id": "35007f24",
   "metadata": {},
   "outputs": [],
   "source": [
    "y_cv_new=np.zeros(len(y_cv))\n",
    "for i in range (len(y_cv)):\n",
    "    if y_cv.iloc[i] == 'Fraud':\n",
    "        y_cv_new[i] =1"
   ]
  },
  {
   "cell_type": "code",
   "execution_count": 13,
   "id": "d30b35fe",
   "metadata": {},
   "outputs": [],
   "source": [
    "y_test_new_1=np.zeros(len(y_cv))\n",
    "for i in range (len(y_test_new)):\n",
    "    if y_test_new.iloc[i] == 'Fraud':\n",
    "        y_test_new_1[i] =1"
   ]
  },
  {
   "cell_type": "code",
   "execution_count": 14,
   "id": "7624d5c7",
   "metadata": {},
   "outputs": [],
   "source": [
    "def generateXvector(X):#add coloumn of 1 in X features\n",
    "    \"\"\" Taking the original independent variables matrix and add a row of 1 which corresponds to x_0\n",
    "        Parameters:\n",
    "          X:  independent variables matrix\n",
    "        Return value: the matrix that contains all the values in the dataset, not include the outcomes variables.  \"\"\"\n",
    "    vectorX = np.c_[np.ones((len(X), 1)), X]\n",
    "    return vectorX"
   ]
  },
  {
   "cell_type": "code",
   "execution_count": 15,
   "id": "0d04cc56",
   "metadata": {},
   "outputs": [],
   "source": [
    "def theta_init(X):\n",
    "    \"\"\" Generate an initial value of vector θ from the original independent variables matrix\n",
    "         Parameters:\n",
    "          X:  independent variables matrix\n",
    "        Return value: a vector of theta filled with initial guess\n",
    "    \"\"\"\n",
    "    theta = np.random.randn(X+1, 1)\n",
    "    return theta"
   ]
  },
  {
   "cell_type": "code",
   "execution_count": 16,
   "id": "a8f11c6d",
   "metadata": {},
   "outputs": [],
   "source": [
    "def sigmoid_function(X):\n",
    "    \"\"\" Calculate the sigmoid value of the inputs\n",
    "         Parameters:\n",
    "          X:  values\n",
    "        Return value: the sigmoid value\n",
    "    \"\"\"\n",
    "    return 1/(1+math.e**(-X))"
   ]
  },
  {
   "cell_type": "code",
   "execution_count": 17,
   "id": "de7195ce",
   "metadata": {},
   "outputs": [],
   "source": [
    "def Logistics_Regression(X,y,learningrate, iterations):\n",
    "        \n",
    "    y_new = y\n",
    "    cost_lst = []\n",
    "    vectorX = generateXvector(X)\n",
    "    theta = theta_init(len(X.iloc[0,:]))\n",
    "    m = len(X)\n",
    "    for i in range(iterations):\n",
    "        gradients = 2/m * vectorX.T.dot(sigmoid_function(vectorX.dot(theta)) - y_new)\n",
    "        theta = theta - learningrate * gradients\n",
    "        y_pred = sigmoid_function(vectorX.dot(theta))\n",
    "        cost_value = - np.sum(np.dot(y_new.T,np.log(y_pred)+ np.dot((1-y_new).T,np.log(1-y_pred)))) /(len(y_pred))\n",
    "        cost_lst.append(cost_value)\n",
    "        \n",
    "    return theta, cost_value"
   ]
  },
  {
   "cell_type": "code",
   "execution_count": 19,
   "id": "dc2feb80",
   "metadata": {},
   "outputs": [],
   "source": [
    "theta1, cost_value1=Logistics_Regression(x_train,y_train_new,0.03, 100)"
   ]
  },
  {
   "cell_type": "code",
   "execution_count": 20,
   "id": "40a35b89",
   "metadata": {},
   "outputs": [],
   "source": [
    "def root_regularization(y_pred,y_test,theta):\n",
    "    cost_reg=100\n",
    "    best_lamda=0\n",
    "    lamda=np.array([0.01,0.02,0.04,0.08,0.16,0.32,0.64,1.28,2.56,5.12,10.24])\n",
    "    cost_lst = []\n",
    "    m = len(x)\n",
    "    N = len(y_test)\n",
    "    for i in range(np.size(lamda)):\n",
    "        term=(lamda[i]/2*N)*(np.sum(theta**2))\n",
    "        cost_value = (- np.sum(np.dot(y_test.T,np.log(y_pred)+ np.dot((1-y_test).T,np.log(1-y_pred)))) /(len(y_pred)))+term\n",
    "        cost_lst.append(cost_value)\n",
    "        if cost_value<cost_reg:\n",
    "            cost_reg=cost_value\n",
    "            best_lamda=lamda[i]\n",
    "    return best_lamda,cost_reg"
   ]
  },
  {
   "cell_type": "code",
   "execution_count": 21,
   "id": "540bc719",
   "metadata": {},
   "outputs": [],
   "source": [
    "def rmse(y_pred,y_test):\n",
    "    cost_value = (- np.sum(np.dot(y_test.T,np.log(y_pred)+ np.dot((1-y_test).T,np.log(1-y_pred)))) /(len(y_pred)))\n",
    "    return cost_value"
   ]
  },
  {
   "cell_type": "code",
   "execution_count": 23,
   "id": "35b13dc2",
   "metadata": {},
   "outputs": [
    {
     "name": "stderr",
     "output_type": "stream",
     "text": [
      "C:\\Users\\Win-10\\AppData\\Local\\Temp/ipykernel_11480/652476340.py:7: RuntimeWarning: overflow encountered in power\n",
      "  return 1/(1+math.e**(-X))\n",
      "C:\\Users\\Win-10\\AppData\\Local\\Temp/ipykernel_11480/46542404.py:12: RuntimeWarning: divide by zero encountered in log\n",
      "  cost_value = - np.sum(np.dot(y_new.T,np.log(y_pred)+ np.dot((1-y_new).T,np.log(1-y_pred)))) /(len(y_pred))\n",
      "C:\\Users\\Win-10\\AppData\\Local\\Temp/ipykernel_11480/2464514834.py:10: RuntimeWarning: divide by zero encountered in log\n",
      "  cost_value = (- np.sum(np.dot(y_test.T,np.log(y_pred)+ np.dot((1-y_test).T,np.log(1-y_pred)))) /(len(y_pred)))+term\n"
     ]
    }
   ],
   "source": [
    "cost_cv=100\n",
    "theta1_cv=[]\n",
    "for j in range(9):\n",
    "    vectorX=generateXvector(x_cv.iloc[:,0:j])\n",
    "    theta2, cost_value1=Logistics_Regression(x_train.iloc[:,0:j],y_train_new,0.03, 100)\n",
    "   \n",
    "    y_pred = sigmoid_function(vectorX.dot(theta2))#calculate hypothesis using best thetas\n",
    "    best_lamda,cost_reg=root_regularization(y_pred,y_cv_new,theta2)\n",
    "    if cost_value1<cost_cv:\n",
    "        cost_cv=cost_value1\n",
    "        theta1_cv=theta2\n",
    "    if cost_reg<cost_cv:\n",
    "        cost_cv=cost_reg\n",
    "        theta1_cv=theta2"
   ]
  },
  {
   "cell_type": "code",
   "execution_count": 26,
   "id": "7c5959e3",
   "metadata": {},
   "outputs": [
    {
     "name": "stderr",
     "output_type": "stream",
     "text": [
      "C:\\Users\\Win-10\\AppData\\Local\\Temp/ipykernel_11480/652476340.py:7: RuntimeWarning: overflow encountered in power\n",
      "  return 1/(1+math.e**(-X))\n",
      "C:\\Users\\Win-10\\AppData\\Local\\Temp/ipykernel_11480/1897399221.py:2: RuntimeWarning: divide by zero encountered in log\n",
      "  cost_value = (- np.sum(np.dot(y_test.T,np.log(y_pred)+ np.dot((1-y_test).T,np.log(1-y_pred)))) /(len(y_pred)))\n"
     ]
    }
   ],
   "source": [
    "y_pred_test=sigmoid_function(np.dot(x_test_new.iloc[:,0:np.size(theta1_cv)], theta1_cv))\n",
    "cost_y_test=rmse(y_pred_test,y_test_new_1)\n",
    "cost_test_reg=rmse(y_pred_test,y_test_new_1)+(best_lamda/2*len(y_cv))*(np.sum(theta1_cv**2))"
   ]
  },
  {
   "cell_type": "code",
   "execution_count": 32,
   "id": "90c1a3c0",
   "metadata": {},
   "outputs": [
    {
     "name": "stderr",
     "output_type": "stream",
     "text": [
      "D:\\Anaconda\\lib\\site-packages\\sklearn\\linear_model\\_logistic.py:763: ConvergenceWarning: lbfgs failed to converge (status=1):\n",
      "STOP: TOTAL NO. of ITERATIONS REACHED LIMIT.\n",
      "\n",
      "Increase the number of iterations (max_iter) or scale the data as shown in:\n",
      "    https://scikit-learn.org/stable/modules/preprocessing.html\n",
      "Please also refer to the documentation for alternative solver options:\n",
      "    https://scikit-learn.org/stable/modules/linear_model.html#logistic-regression\n",
      "  n_iter_i = _check_optimize_result(\n"
     ]
    },
    {
     "name": "stdout",
     "output_type": "stream",
     "text": [
      "Accuracy is  0.9994090484737419 per iteration\n"
     ]
    },
    {
     "name": "stderr",
     "output_type": "stream",
     "text": [
      "D:\\Anaconda\\lib\\site-packages\\sklearn\\linear_model\\_logistic.py:763: ConvergenceWarning: lbfgs failed to converge (status=1):\n",
      "STOP: TOTAL NO. of ITERATIONS REACHED LIMIT.\n",
      "\n",
      "Increase the number of iterations (max_iter) or scale the data as shown in:\n",
      "    https://scikit-learn.org/stable/modules/preprocessing.html\n",
      "Please also refer to the documentation for alternative solver options:\n",
      "    https://scikit-learn.org/stable/modules/linear_model.html#logistic-regression\n",
      "  n_iter_i = _check_optimize_result(\n"
     ]
    },
    {
     "name": "stdout",
     "output_type": "stream",
     "text": [
      "Accuracy is  0.9982538639742747 per iteration\n",
      "Accuracy is  0.9994467687839287 per iteration\n",
      "Accuracy is  0.9994027617553775 per iteration\n"
     ]
    },
    {
     "name": "stderr",
     "output_type": "stream",
     "text": [
      "D:\\Anaconda\\lib\\site-packages\\sklearn\\linear_model\\_logistic.py:763: ConvergenceWarning: lbfgs failed to converge (status=1):\n",
      "STOP: TOTAL NO. of ITERATIONS REACHED LIMIT.\n",
      "\n",
      "Increase the number of iterations (max_iter) or scale the data as shown in:\n",
      "    https://scikit-learn.org/stable/modules/preprocessing.html\n",
      "Please also refer to the documentation for alternative solver options:\n",
      "    https://scikit-learn.org/stable/modules/linear_model.html#logistic-regression\n",
      "  n_iter_i = _check_optimize_result(\n"
     ]
    },
    {
     "name": "stdout",
     "output_type": "stream",
     "text": [
      "Accuracy is  0.9994153351921063 per iteration\n"
     ]
    },
    {
     "name": "stderr",
     "output_type": "stream",
     "text": [
      "D:\\Anaconda\\lib\\site-packages\\sklearn\\linear_model\\_logistic.py:763: ConvergenceWarning: lbfgs failed to converge (status=1):\n",
      "STOP: TOTAL NO. of ITERATIONS REACHED LIMIT.\n",
      "\n",
      "Increase the number of iterations (max_iter) or scale the data as shown in:\n",
      "    https://scikit-learn.org/stable/modules/preprocessing.html\n",
      "Please also refer to the documentation for alternative solver options:\n",
      "    https://scikit-learn.org/stable/modules/linear_model.html#logistic-regression\n",
      "  n_iter_i = _check_optimize_result(\n"
     ]
    },
    {
     "name": "stdout",
     "output_type": "stream",
     "text": [
      "Accuracy is  0.9992471654758575 per iteration\n",
      "Accuracy is  0.9981925684702214 per iteration\n",
      "Accuracy is  0.9995394978798042 per iteration\n",
      "Accuracy is  0.9993163193778664 per iteration\n"
     ]
    },
    {
     "name": "stderr",
     "output_type": "stream",
     "text": [
      "D:\\Anaconda\\lib\\site-packages\\sklearn\\linear_model\\_logistic.py:763: ConvergenceWarning: lbfgs failed to converge (status=1):\n",
      "STOP: TOTAL NO. of ITERATIONS REACHED LIMIT.\n",
      "\n",
      "Increase the number of iterations (max_iter) or scale the data as shown in:\n",
      "    https://scikit-learn.org/stable/modules/preprocessing.html\n",
      "Please also refer to the documentation for alternative solver options:\n",
      "    https://scikit-learn.org/stable/modules/linear_model.html#logistic-regression\n",
      "  n_iter_i = _check_optimize_result(\n"
     ]
    },
    {
     "name": "stdout",
     "output_type": "stream",
     "text": [
      "Accuracy is  0.9943843888209574 per iteration\n"
     ]
    }
   ],
   "source": [
    "skfolds = KFold(n_splits=10)\n",
    "splits = skfolds.split(x, y)\n",
    "for i, (train_index, test_index) in enumerate(splits): #split and shuffle the data  \n",
    "  x_train = x.iloc[train_index]\n",
    "  y_train = y.iloc[train_index]\n",
    "  x_test  = x.iloc[test_index]\n",
    "  y_test  = y.iloc[test_index]\n",
    "  clf = LogisticRegression()\n",
    "  clf.fit(x_train, y_train)\n",
    "  y_pred = clf.predict(x_test)\n",
    "  accuracy = np.mean(y_pred == y_test)\n",
    "  print(\"Accuracy is \", accuracy , \"per iteration\")"
   ]
  },
  {
   "cell_type": "code",
   "execution_count": 35,
   "id": "718eb93f",
   "metadata": {},
   "outputs": [
    {
     "name": "stderr",
     "output_type": "stream",
     "text": [
      "D:\\Anaconda\\lib\\site-packages\\sklearn\\linear_model\\_logistic.py:763: ConvergenceWarning: lbfgs failed to converge (status=1):\n",
      "STOP: TOTAL NO. of ITERATIONS REACHED LIMIT.\n",
      "\n",
      "Increase the number of iterations (max_iter) or scale the data as shown in:\n",
      "    https://scikit-learn.org/stable/modules/preprocessing.html\n",
      "Please also refer to the documentation for alternative solver options:\n",
      "    https://scikit-learn.org/stable/modules/linear_model.html#logistic-regression\n",
      "  n_iter_i = _check_optimize_result(\n"
     ]
    },
    {
     "name": "stdout",
     "output_type": "stream",
     "text": [
      "Accuracy is : 0.998742499554429\n",
      "[SPLIT 1]\n"
     ]
    },
    {
     "name": "stderr",
     "output_type": "stream",
     "text": [
      "D:\\Anaconda\\lib\\site-packages\\sklearn\\linear_model\\_logistic.py:763: ConvergenceWarning: lbfgs failed to converge (status=1):\n",
      "STOP: TOTAL NO. of ITERATIONS REACHED LIMIT.\n",
      "\n",
      "Increase the number of iterations (max_iter) or scale the data as shown in:\n",
      "    https://scikit-learn.org/stable/modules/preprocessing.html\n",
      "Please also refer to the documentation for alternative solver options:\n",
      "    https://scikit-learn.org/stable/modules/linear_model.html#logistic-regression\n",
      "  n_iter_i = _check_optimize_result(\n"
     ]
    },
    {
     "name": "stdout",
     "output_type": "stream",
     "text": [
      "Accuracy is : 0.9987099657971195\n",
      "[SPLIT 2]\n"
     ]
    },
    {
     "name": "stderr",
     "output_type": "stream",
     "text": [
      "D:\\Anaconda\\lib\\site-packages\\sklearn\\linear_model\\_logistic.py:763: ConvergenceWarning: lbfgs failed to converge (status=1):\n",
      "STOP: TOTAL NO. of ITERATIONS REACHED LIMIT.\n",
      "\n",
      "Increase the number of iterations (max_iter) or scale the data as shown in:\n",
      "    https://scikit-learn.org/stable/modules/preprocessing.html\n",
      "Please also refer to the documentation for alternative solver options:\n",
      "    https://scikit-learn.org/stable/modules/linear_model.html#logistic-regression\n",
      "  n_iter_i = _check_optimize_result(\n"
     ]
    },
    {
     "name": "stdout",
     "output_type": "stream",
     "text": [
      "Accuracy is : 0.9987750333117384\n",
      "[SPLIT 3]\n"
     ]
    },
    {
     "name": "stderr",
     "output_type": "stream",
     "text": [
      "D:\\Anaconda\\lib\\site-packages\\sklearn\\linear_model\\_logistic.py:763: ConvergenceWarning: lbfgs failed to converge (status=1):\n",
      "STOP: TOTAL NO. of ITERATIONS REACHED LIMIT.\n",
      "\n",
      "Increase the number of iterations (max_iter) or scale the data as shown in:\n",
      "    https://scikit-learn.org/stable/modules/preprocessing.html\n",
      "Please also refer to the documentation for alternative solver options:\n",
      "    https://scikit-learn.org/stable/modules/linear_model.html#logistic-regression\n",
      "  n_iter_i = _check_optimize_result(\n"
     ]
    },
    {
     "name": "stdout",
     "output_type": "stream",
     "text": [
      "Accuracy is : 0.9988146396249848\n",
      "[SPLIT 4]\n"
     ]
    },
    {
     "name": "stderr",
     "output_type": "stream",
     "text": [
      "D:\\Anaconda\\lib\\site-packages\\sklearn\\linear_model\\_logistic.py:763: ConvergenceWarning: lbfgs failed to converge (status=1):\n",
      "STOP: TOTAL NO. of ITERATIONS REACHED LIMIT.\n",
      "\n",
      "Increase the number of iterations (max_iter) or scale the data as shown in:\n",
      "    https://scikit-learn.org/stable/modules/preprocessing.html\n",
      "Please also refer to the documentation for alternative solver options:\n",
      "    https://scikit-learn.org/stable/modules/linear_model.html#logistic-regression\n",
      "  n_iter_i = _check_optimize_result(\n"
     ]
    },
    {
     "name": "stdout",
     "output_type": "stream",
     "text": [
      "Accuracy is : 0.998823126692109\n",
      "[SPLIT 5]\n"
     ]
    },
    {
     "name": "stderr",
     "output_type": "stream",
     "text": [
      "D:\\Anaconda\\lib\\site-packages\\sklearn\\linear_model\\_logistic.py:763: ConvergenceWarning: lbfgs failed to converge (status=1):\n",
      "STOP: TOTAL NO. of ITERATIONS REACHED LIMIT.\n",
      "\n",
      "Increase the number of iterations (max_iter) or scale the data as shown in:\n",
      "    https://scikit-learn.org/stable/modules/preprocessing.html\n",
      "Please also refer to the documentation for alternative solver options:\n",
      "    https://scikit-learn.org/stable/modules/linear_model.html#logistic-regression\n",
      "  n_iter_i = _check_optimize_result(\n"
     ]
    },
    {
     "name": "stdout",
     "output_type": "stream",
     "text": [
      "Accuracy is : 0.9977679013463318\n",
      "[SPLIT 6]\n",
      "Accuracy is : 0.9988061525578605\n",
      "[SPLIT 7]\n",
      "Accuracy is : 0.9988301975933472\n",
      "[SPLIT 8]\n",
      "Accuracy is : 0.9990183278473797\n",
      "[SPLIT 9]\n"
     ]
    }
   ],
   "source": [
    "skfolds_1 = StratifiedKFold(n_splits=9)\n",
    "splits_1 = skfolds_1.split(x, y)\n",
    "for i, (train_index, test_index) in enumerate(splits_1): #split and shuffle the data \n",
    "  x_train = x.iloc[train_index]\n",
    "  y_train = y.iloc[train_index]\n",
    "  x_test  = x.iloc[test_index]\n",
    "  y_test  = y.iloc[test_index]\n",
    "  clf_1 = LogisticRegression()\n",
    "  clf_1.fit(x_train, y_train)\n",
    "  y_pred_1 = clf_1.predict(x_test)\n",
    "  accuracy = np.mean(y_pred_1 == y_test)\n",
    "  print(\"Accuracy is :\",  accuracy)\n",
    "  print(\"[SPLIT %d]\"%(i+1))"
   ]
  },
  {
   "cell_type": "code",
   "execution_count": 38,
   "id": "450e2840",
   "metadata": {},
   "outputs": [
    {
     "name": "stdout",
     "output_type": "stream",
     "text": [
      "[[1270878       0]\n",
      " [   1646       0]]\n",
      "0.9987065076965149\n"
     ]
    }
   ],
   "source": [
    "print(sklearn.metrics.confusion_matrix(y_test_new_1,np.round((y_pred_test))))\n",
    "print(accuracy_score(y_test_new_1, np.round((y_pred_test))) )"
   ]
  },
  {
   "cell_type": "code",
   "execution_count": 43,
   "id": "f180d182",
   "metadata": {},
   "outputs": [
    {
     "name": "stdout",
     "output_type": "stream",
     "text": [
      "fpr:  [0.00000000e+00 7.86857590e-07 7.78989014e-05 ... 9.83906402e-01\n",
      " 9.83906402e-01 1.00000000e+00]\n",
      "tpr:  [0.         0.         0.         ... 0.81773998 0.81834751 1.        ]\n",
      "auc:  0.3496749903847054\n"
     ]
    }
   ],
   "source": [
    "fpr, tpr, _ = metrics.roc_curve(y_test_new_1,  y_pred_test)\n",
    "auc = metrics.roc_auc_score(y_test_new_1, y_pred_test)\n",
    "print(\"fpr: \", fpr)\n",
    "print(\"tpr: \", tpr)\n",
    "print(\"auc: \",auc)"
   ]
  },
  {
   "cell_type": "code",
   "execution_count": 44,
   "id": "d88e72d8",
   "metadata": {},
   "outputs": [
    {
     "data": {
      "image/png": "[encoded data removed]",
      "text/plain": [
       "<Figure size 432x288 with 1 Axes>"
      ]
     },
     "metadata": {
      "needs_background": "light"
     },
     "output_type": "display_data"
    }
   ],
   "source": [
    "plt.figure()\n",
    "plt.plot(fpr,tpr)\n",
    "plt.ylabel('True Positive Rate')\n",
    "plt.xlabel('False Positive Rate')\n",
    "plt.show()\n"
   ]
  },
  {
   "cell_type": "code",
   "execution_count": null,
   "id": "51dcaa7f",
   "metadata": {},
   "outputs": [],
   "source": []
  }
 ],
 "metadata": {
  "kernelspec": {
   "display_name": "Python 3 (ipykernel)",
   "language": "python",
   "name": "python3"
  },
  "language_info": {
   "codemirror_mode": {
    "name": "ipython",
    "version": 3
   },
   "file_extension": ".py",
   "mimetype": "text/x-python",
   "name": "python",
   "nbconvert_exporter": "python",
   "pygments_lexer": "ipython3",
   "version": "3.9.7"
  }
 },
 "nbformat": 4,
 "nbformat_minor": 5
}
