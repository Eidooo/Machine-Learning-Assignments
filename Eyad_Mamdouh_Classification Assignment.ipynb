{
 "cells": [
  {
   "cell_type": "code",
   "execution_count": 7,
   "id": "38ff21b1",
   "metadata": {},
   "outputs": [],
   "source": [
    "import numpy as np\n",
    "import pandas as pd\n",
    "import math\n",
    "import sklearn.metrics\n",
    "import matplotlib.pyplot as plt\n",
    "import random\n",
    "from sklearn.linear_model import LogisticRegression\n",
    "from sklearn.metrics import classification_report, confusion_matrix\n",
    "from sklearn.model_selection import train_test_split\n",
    "from sklearn.model_selection import KFold\n",
    "from sklearn.model_selection import StratifiedKFold\n",
    "from sklearn.metrics import confusion_matrix\n",
    "from sklearn.metrics import accuracy_score\n",
    "from sklearn.metrics import r2_score\n",
    "from sklearn import metrics"
   ]
  },
  {
   "cell_type": "code",
   "execution_count": 8,
   "id": "c096ec62",
   "metadata": {},
   "outputs": [],
   "source": [
    "p=0.01\n",
    "my_data= pd.read_csv(\"frauddata.csv\",header=0, skiprows=lambda i: i>0 and random.random() > p)"
   ]
  },
  {
   "cell_type": "code",
   "execution_count": 9,
   "id": "e9d33440",
   "metadata": {},
   "outputs": [],
   "source": [
    "my_data[\"type\"] = my_data[\"type\"].map({\"CASH_OUT\": 1, \"PAYMENT\": 2,\"CASH_IN\": 3, \"TRANSFER\": 4,\"DEBIT\": 5})\n",
    "my_data[\"isFraud\"] = my_data[\"isFraud\"].map({0: \"No Fraud\", 1: \"Fraud\"})"
   ]
  },
  {
   "cell_type": "code",
   "execution_count": 10,
   "id": "37ed78c9",
   "metadata": {},
   "outputs": [
    {
     "data": {
      "text/html": [
       "<div>\n",
       "<style scoped>\n",
       "    .dataframe tbody tr th:only-of-type {\n",
       "        vertical-align: middle;\n",
       "    }\n",
       "\n",
       "    .dataframe tbody tr th {\n",
       "        vertical-align: top;\n",
       "    }\n",
       "\n",
       "    .dataframe thead th {\n",
       "        text-align: right;\n",
       "    }\n",
       "</style>\n",
       "<table border=\"1\" class=\"dataframe\">\n",
       "  <thead>\n",
       "    <tr style=\"text-align: right;\">\n",
       "      <th></th>\n",
       "      <th>step</th>\n",
       "      <th>type</th>\n",
       "      <th>amount</th>\n",
       "      <th>nameOrig</th>\n",
       "      <th>oldbalanceOrg</th>\n",
       "      <th>newbalanceOrig</th>\n",
       "      <th>nameDest</th>\n",
       "      <th>oldbalanceDest</th>\n",
       "      <th>newbalanceDest</th>\n",
       "      <th>isFraud</th>\n",
       "      <th>isFlaggedFraud</th>\n",
       "    </tr>\n",
       "  </thead>\n",
       "  <tbody>\n",
       "    <tr>\n",
       "      <th>0</th>\n",
       "      <td>1</td>\n",
       "      <td>2</td>\n",
       "      <td>3876.41</td>\n",
       "      <td>C504336483</td>\n",
       "      <td>67852.00</td>\n",
       "      <td>63975.59</td>\n",
       "      <td>M1404932042</td>\n",
       "      <td>0.00</td>\n",
       "      <td>0.00</td>\n",
       "      <td>No Fraud</td>\n",
       "      <td>0</td>\n",
       "    </tr>\n",
       "    <tr>\n",
       "      <th>1</th>\n",
       "      <td>1</td>\n",
       "      <td>1</td>\n",
       "      <td>212228.35</td>\n",
       "      <td>C1896074070</td>\n",
       "      <td>0.00</td>\n",
       "      <td>0.00</td>\n",
       "      <td>C401424608</td>\n",
       "      <td>429747.00</td>\n",
       "      <td>1178808.14</td>\n",
       "      <td>No Fraud</td>\n",
       "      <td>0</td>\n",
       "    </tr>\n",
       "    <tr>\n",
       "      <th>2</th>\n",
       "      <td>1</td>\n",
       "      <td>2</td>\n",
       "      <td>2610.01</td>\n",
       "      <td>C1528769018</td>\n",
       "      <td>58697.54</td>\n",
       "      <td>56087.54</td>\n",
       "      <td>M183155105</td>\n",
       "      <td>0.00</td>\n",
       "      <td>0.00</td>\n",
       "      <td>No Fraud</td>\n",
       "      <td>0</td>\n",
       "    </tr>\n",
       "    <tr>\n",
       "      <th>3</th>\n",
       "      <td>1</td>\n",
       "      <td>3</td>\n",
       "      <td>62325.15</td>\n",
       "      <td>C695530017</td>\n",
       "      <td>960786.56</td>\n",
       "      <td>1023111.71</td>\n",
       "      <td>C564160838</td>\n",
       "      <td>1880271.66</td>\n",
       "      <td>1254956.07</td>\n",
       "      <td>No Fraud</td>\n",
       "      <td>0</td>\n",
       "    </tr>\n",
       "    <tr>\n",
       "      <th>4</th>\n",
       "      <td>1</td>\n",
       "      <td>3</td>\n",
       "      <td>6287.28</td>\n",
       "      <td>C1765702</td>\n",
       "      <td>4817829.42</td>\n",
       "      <td>4824116.71</td>\n",
       "      <td>C1651855867</td>\n",
       "      <td>11274.00</td>\n",
       "      <td>0.00</td>\n",
       "      <td>No Fraud</td>\n",
       "      <td>0</td>\n",
       "    </tr>\n",
       "    <tr>\n",
       "      <th>...</th>\n",
       "      <td>...</td>\n",
       "      <td>...</td>\n",
       "      <td>...</td>\n",
       "      <td>...</td>\n",
       "      <td>...</td>\n",
       "      <td>...</td>\n",
       "      <td>...</td>\n",
       "      <td>...</td>\n",
       "      <td>...</td>\n",
       "      <td>...</td>\n",
       "      <td>...</td>\n",
       "    </tr>\n",
       "    <tr>\n",
       "      <th>63484</th>\n",
       "      <td>719</td>\n",
       "      <td>4</td>\n",
       "      <td>534518.98</td>\n",
       "      <td>C1636058456</td>\n",
       "      <td>534518.98</td>\n",
       "      <td>0.00</td>\n",
       "      <td>C937763226</td>\n",
       "      <td>0.00</td>\n",
       "      <td>0.00</td>\n",
       "      <td>Fraud</td>\n",
       "      <td>0</td>\n",
       "    </tr>\n",
       "    <tr>\n",
       "      <th>63485</th>\n",
       "      <td>725</td>\n",
       "      <td>1</td>\n",
       "      <td>873322.61</td>\n",
       "      <td>C2077011049</td>\n",
       "      <td>873322.61</td>\n",
       "      <td>0.00</td>\n",
       "      <td>C1352808930</td>\n",
       "      <td>258993.92</td>\n",
       "      <td>1132316.53</td>\n",
       "      <td>Fraud</td>\n",
       "      <td>0</td>\n",
       "    </tr>\n",
       "    <tr>\n",
       "      <th>63486</th>\n",
       "      <td>732</td>\n",
       "      <td>1</td>\n",
       "      <td>249365.63</td>\n",
       "      <td>C1261928380</td>\n",
       "      <td>249365.63</td>\n",
       "      <td>0.00</td>\n",
       "      <td>C1342636720</td>\n",
       "      <td>0.00</td>\n",
       "      <td>249365.63</td>\n",
       "      <td>Fraud</td>\n",
       "      <td>0</td>\n",
       "    </tr>\n",
       "    <tr>\n",
       "      <th>63487</th>\n",
       "      <td>734</td>\n",
       "      <td>1</td>\n",
       "      <td>2079746.13</td>\n",
       "      <td>C1063299871</td>\n",
       "      <td>2079746.13</td>\n",
       "      <td>0.00</td>\n",
       "      <td>C884992368</td>\n",
       "      <td>0.00</td>\n",
       "      <td>2079746.13</td>\n",
       "      <td>Fraud</td>\n",
       "      <td>0</td>\n",
       "    </tr>\n",
       "    <tr>\n",
       "      <th>63488</th>\n",
       "      <td>739</td>\n",
       "      <td>4</td>\n",
       "      <td>176549.59</td>\n",
       "      <td>C591532921</td>\n",
       "      <td>176549.59</td>\n",
       "      <td>0.00</td>\n",
       "      <td>C1612941843</td>\n",
       "      <td>0.00</td>\n",
       "      <td>0.00</td>\n",
       "      <td>Fraud</td>\n",
       "      <td>0</td>\n",
       "    </tr>\n",
       "  </tbody>\n",
       "</table>\n",
       "<p>63489 rows × 11 columns</p>\n",
       "</div>"
      ],
      "text/plain": [
       "       step  type      amount     nameOrig  oldbalanceOrg  newbalanceOrig  \\\n",
       "0         1     2     3876.41   C504336483       67852.00        63975.59   \n",
       "1         1     1   212228.35  C1896074070           0.00            0.00   \n",
       "2         1     2     2610.01  C1528769018       58697.54        56087.54   \n",
       "3         1     3    62325.15   C695530017      960786.56      1023111.71   \n",
       "4         1     3     6287.28     C1765702     4817829.42      4824116.71   \n",
       "...     ...   ...         ...          ...            ...             ...   \n",
       "63484   719     4   534518.98  C1636058456      534518.98            0.00   \n",
       "63485   725     1   873322.61  C2077011049      873322.61            0.00   \n",
       "63486   732     1   249365.63  C1261928380      249365.63            0.00   \n",
       "63487   734     1  2079746.13  C1063299871     2079746.13            0.00   \n",
       "63488   739     4   176549.59   C591532921      176549.59            0.00   \n",
       "\n",
       "          nameDest  oldbalanceDest  newbalanceDest   isFraud  isFlaggedFraud  \n",
       "0      M1404932042            0.00            0.00  No Fraud               0  \n",
       "1       C401424608       429747.00      1178808.14  No Fraud               0  \n",
       "2       M183155105            0.00            0.00  No Fraud               0  \n",
       "3       C564160838      1880271.66      1254956.07  No Fraud               0  \n",
       "4      C1651855867        11274.00            0.00  No Fraud               0  \n",
       "...            ...             ...             ...       ...             ...  \n",
       "63484   C937763226            0.00            0.00     Fraud               0  \n",
       "63485  C1352808930       258993.92      1132316.53     Fraud               0  \n",
       "63486  C1342636720            0.00       249365.63     Fraud               0  \n",
       "63487   C884992368            0.00      2079746.13     Fraud               0  \n",
       "63488  C1612941843            0.00            0.00     Fraud               0  \n",
       "\n",
       "[63489 rows x 11 columns]"
      ]
     },
     "execution_count": 10,
     "metadata": {},
     "output_type": "execute_result"
    }
   ],
   "source": [
    "my_data"
   ]
  },
  {
   "cell_type": "code",
   "execution_count": 15,
   "id": "1965f35e",
   "metadata": {},
   "outputs": [],
   "source": [
    "my_data.drop(['nameOrig','nameDest'],axis=1,inplace=True)\n",
    "x=my_data.drop('isFraud',axis=1)\n",
    "y=my_data['isFraud']\n",
    "for i in range(1,7):\n",
    "    max_x=max(x.iloc[:,i])\n",
    "    min_x=min(x.iloc[:,i])\n",
    "    x.iloc[:,i]=(x.iloc[:,i]-min_x)/(max_x-min_x)\n"
   ]
  },
  {
   "cell_type": "code",
   "execution_count": 16,
   "id": "b90a0136",
   "metadata": {},
   "outputs": [],
   "source": [
    "x_train, x_test, y_train, y_test = train_test_split(x, y, test_size=0.4, random_state=42)\n",
    "x_cv, x_test_new=np.split(x_test, 2)\n",
    "y_cv , y_test_new=np.split(y_test, 2)"
   ]
  },
  {
   "cell_type": "code",
   "execution_count": 17,
   "id": "ad396237",
   "metadata": {},
   "outputs": [],
   "source": [
    "y_train_new=np.zeros(len(y_train))\n",
    "for i in range (len(y_train)):\n",
    "    if y_train.iloc[i] == 'Fraud':\n",
    "        y_train_new[i] =1 \n",
    "y_train_new=pd.DataFrame(y_train_new)"
   ]
  },
  {
   "cell_type": "code",
   "execution_count": 18,
   "id": "35007f24",
   "metadata": {},
   "outputs": [],
   "source": [
    "y_cv_new=np.zeros(len(y_cv))\n",
    "for i in range (len(y_cv)):\n",
    "    if y_cv.iloc[i] == 'Fraud':\n",
    "        y_cv_new[i] =1"
   ]
  },
  {
   "cell_type": "code",
   "execution_count": 19,
   "id": "d30b35fe",
   "metadata": {},
   "outputs": [],
   "source": [
    "y_test_new_1=np.zeros(len(y_cv))\n",
    "for i in range (len(y_test_new)):\n",
    "    if y_test_new.iloc[i] == 'Fraud':\n",
    "        y_test_new_1[i] =1"
   ]
  },
  {
   "cell_type": "code",
   "execution_count": 20,
   "id": "7624d5c7",
   "metadata": {},
   "outputs": [],
   "source": [
    "def generateXvector(X):#add coloumn of 1 in X features\n",
    "    \"\"\" Taking the original independent variables matrix and add a row of 1 which corresponds to x_0\n",
    "        Parameters:\n",
    "          X:  independent variables matrix\n",
    "        Return value: the matrix that contains all the values in the dataset, not include the outcomes variables.  \"\"\"\n",
    "    vectorX = np.c_[np.ones((len(X), 1)), X]\n",
    "    return vectorX"
   ]
  },
  {
   "cell_type": "code",
   "execution_count": 21,
   "id": "0d04cc56",
   "metadata": {},
   "outputs": [],
   "source": [
    "def theta_init(X):\n",
    "    \"\"\" Generate an initial value of vector θ from the original independent variables matrix\n",
    "         Parameters:\n",
    "          X:  independent variables matrix\n",
    "        Return value: a vector of theta filled with initial guess\n",
    "    \"\"\"\n",
    "    theta = np.random.randn(X+1, 1)\n",
    "    return theta"
   ]
  },
  {
   "cell_type": "code",
   "execution_count": 22,
   "id": "a8f11c6d",
   "metadata": {},
   "outputs": [],
   "source": [
    "def sigmoid_function(X):\n",
    "    \"\"\" Calculate the sigmoid value of the inputs\n",
    "         Parameters:\n",
    "          X:  values\n",
    "        Return value: the sigmoid value\n",
    "    \"\"\"\n",
    "    return 1/(1+math.e**(-X))"
   ]
  },
  {
   "cell_type": "code",
   "execution_count": 23,
   "id": "de7195ce",
   "metadata": {},
   "outputs": [],
   "source": [
    "def Logistics_Regression(X,y,learningrate, iterations):\n",
    "        \n",
    "    y_new = y\n",
    "    cost_lst = []\n",
    "    vectorX = generateXvector(X)\n",
    "    theta = theta_init(len(X.iloc[0,:]))\n",
    "    m = len(X)\n",
    "    for i in range(iterations):\n",
    "        gradients = 2/m * vectorX.T.dot(sigmoid_function(vectorX.dot(theta)) - y_new)\n",
    "        theta = theta - learningrate * gradients\n",
    "        y_pred = sigmoid_function(vectorX.dot(theta))\n",
    "        cost_value = - np.sum(np.dot(y_new.T,np.log(y_pred)+ np.dot((1-y_new).T,np.log(1-y_pred)))) /(len(y_pred))\n",
    "        cost_lst.append(cost_value)\n",
    "        \n",
    "    return theta, cost_value"
   ]
  },
  {
   "cell_type": "code",
   "execution_count": 24,
   "id": "dc2feb80",
   "metadata": {},
   "outputs": [],
   "source": [
    "theta1, cost_value1=Logistics_Regression(x_train,y_train_new,0.03, 100)"
   ]
  },
  {
   "cell_type": "code",
   "execution_count": 25,
   "id": "40a35b89",
   "metadata": {},
   "outputs": [],
   "source": [
    "def root_regularization(y_pred,y_test,theta):\n",
    "    cost_reg=100\n",
    "    best_lamda=0\n",
    "    lamda=np.array([0.01,0.02,0.04,0.08,0.16,0.32,0.64,1.28,2.56,5.12,10.24])\n",
    "    cost_lst = []\n",
    "    m = len(x)\n",
    "    N = len(y_test)\n",
    "    for i in range(np.size(lamda)):\n",
    "        term=(lamda[i]/2*N)*(np.sum(theta**2))\n",
    "        cost_value = (- np.sum(np.dot(y_test.T,np.log(y_pred)+ np.dot((1-y_test).T,np.log(1-y_pred)))) /(len(y_pred)))+term\n",
    "        cost_lst.append(cost_value)\n",
    "        if cost_value<cost_reg:\n",
    "            cost_reg=cost_value\n",
    "            best_lamda=lamda[i]\n",
    "    return best_lamda,cost_reg"
   ]
  },
  {
   "cell_type": "code",
   "execution_count": 26,
   "id": "540bc719",
   "metadata": {},
   "outputs": [],
   "source": [
    "def rmse(y_pred,y_test):\n",
    "    cost_value = (- np.sum(np.dot(y_test.T,np.log(y_pred)+ np.dot((1-y_test).T,np.log(1-y_pred)))) /(len(y_pred)))\n",
    "    return cost_value"
   ]
  },
  {
   "cell_type": "code",
   "execution_count": 27,
   "id": "35b13dc2",
   "metadata": {},
   "outputs": [
    {
     "name": "stderr",
     "output_type": "stream",
     "text": [
      "C:\\Users\\Win-10\\AppData\\Local\\Temp/ipykernel_10264/652476340.py:7: RuntimeWarning: overflow encountered in power\n",
      "  return 1/(1+math.e**(-X))\n",
      "C:\\Users\\Win-10\\AppData\\Local\\Temp/ipykernel_10264/46542404.py:12: RuntimeWarning: divide by zero encountered in log\n",
      "  cost_value = - np.sum(np.dot(y_new.T,np.log(y_pred)+ np.dot((1-y_new).T,np.log(1-y_pred)))) /(len(y_pred))\n",
      "C:\\Users\\Win-10\\AppData\\Local\\Temp/ipykernel_10264/2464514834.py:10: RuntimeWarning: divide by zero encountered in log\n",
      "  cost_value = (- np.sum(np.dot(y_test.T,np.log(y_pred)+ np.dot((1-y_test).T,np.log(1-y_pred)))) /(len(y_pred)))+term\n"
     ]
    }
   ],
   "source": [
    "cost_cv=100\n",
    "theta1_cv=[]\n",
    "for j in range(9):\n",
    "    vectorX=generateXvector(x_cv.iloc[:,0:j])\n",
    "    theta2, cost_value1=Logistics_Regression(x_train.iloc[:,0:j],y_train_new,0.03, 100)\n",
    "   \n",
    "    y_pred = sigmoid_function(vectorX.dot(theta2))#calculate hypothesis using best thetas\n",
    "    best_lamda,cost_reg=root_regularization(y_pred,y_cv_new,theta2)\n",
    "    if cost_value1<cost_cv:\n",
    "        cost_cv=cost_value1\n",
    "        theta1_cv=theta2\n",
    "    if cost_reg<cost_cv:\n",
    "        cost_cv=cost_reg\n",
    "        theta1_cv=theta2"
   ]
  },
  {
   "cell_type": "code",
   "execution_count": 28,
   "id": "7c5959e3",
   "metadata": {},
   "outputs": [
    {
     "name": "stderr",
     "output_type": "stream",
     "text": [
      "C:\\Users\\Win-10\\AppData\\Local\\Temp/ipykernel_10264/652476340.py:7: RuntimeWarning: overflow encountered in power\n",
      "  return 1/(1+math.e**(-X))\n",
      "C:\\Users\\Win-10\\AppData\\Local\\Temp/ipykernel_10264/1897399221.py:2: RuntimeWarning: divide by zero encountered in log\n",
      "  cost_value = (- np.sum(np.dot(y_test.T,np.log(y_pred)+ np.dot((1-y_test).T,np.log(1-y_pred)))) /(len(y_pred)))\n"
     ]
    }
   ],
   "source": [
    "y_pred_test=sigmoid_function(np.dot(x_test_new.iloc[:,0:np.size(theta1_cv)], theta1_cv))\n",
    "cost_y_test=rmse(y_pred_test,y_test_new_1)\n",
    "cost_test_reg=rmse(y_pred_test,y_test_new_1)+(best_lamda/2*len(y_cv))*(np.sum(theta1_cv**2))"
   ]
  },
  {
   "cell_type": "code",
   "execution_count": 38,
   "id": "90c1a3c0",
   "metadata": {},
   "outputs": [
    {
     "name": "stdout",
     "output_type": "stream",
     "text": [
      "Accuracy is  0.9990549692865018 per iteration\n",
      "Accuracy is  0.9974799180973382 per iteration\n",
      "Accuracy is  0.9992124744054182 per iteration\n",
      "Accuracy is  0.9990549692865018 per iteration\n",
      "Accuracy is  0.9992124744054182 per iteration\n",
      "Accuracy is  0.9992124744054182 per iteration\n",
      "Accuracy is  0.9992124744054182 per iteration\n",
      "Accuracy is  0.9992124744054182 per iteration\n",
      "Accuracy is  0.9993699795243346 per iteration\n",
      "Accuracy is  0.9935412728418399 per iteration\n",
      "Best accuracy per iteration is : 0.9993699795243346\n"
     ]
    }
   ],
   "source": [
    "skfolds = KFold(n_splits=10)\n",
    "splits = skfolds.split(x, y)\n",
    "accuracy_array=[]\n",
    "for i, (train_index, test_index) in enumerate(splits): #split and shuffle the data  \n",
    "  x_train = x.iloc[train_index]\n",
    "  y_train = y.iloc[train_index]\n",
    "  x_test  = x.iloc[test_index]\n",
    "  y_test  = y.iloc[test_index]\n",
    "  clf = LogisticRegression()\n",
    "  clf.fit(x_train, y_train)\n",
    "  y_pred = clf.predict(x_test)\n",
    "  accuracy = np.mean(y_pred == y_test)\n",
    "  accuracy_array.append(accuracy)\n",
    "\n",
    "  print(\"Accuracy is \", accuracy , \"per iteration\")\n",
    "print(\"Best accuracy per iteration is :\", np.max(accuracy_array))    "
   ]
  },
  {
   "cell_type": "code",
   "execution_count": 36,
   "id": "718eb93f",
   "metadata": {},
   "outputs": [
    {
     "name": "stdout",
     "output_type": "stream",
     "text": [
      "Accuracy is : 0.9984408221119773\n",
      "Accuracy is : 0.9984408221119773\n",
      "Accuracy is : 0.9984408221119773\n",
      "Accuracy is : 0.9985823646158208\n",
      "Accuracy is : 0.9984406010774028\n",
      "Accuracy is : 0.9984406010774028\n",
      "Accuracy is : 0.9984406010774028\n",
      "Accuracy is : 0.9984406010774028\n",
      "Accuracy is : 0.9984406010774028\n",
      "Best accuracy is:  0.9985823646158208\n"
     ]
    }
   ],
   "source": [
    "skfolds_1 = StratifiedKFold(n_splits=9)\n",
    "splits_1 = skfolds_1.split(x, y)\n",
    "accuracy_array=[];\n",
    "for i, (train_index, test_index) in enumerate(splits_1): #split and shuffle the data \n",
    "  x_train = x.iloc[train_index]\n",
    "  y_train = y.iloc[train_index]\n",
    "  x_test  = x.iloc[test_index]\n",
    "  y_test  = y.iloc[test_index]\n",
    "  clf_1 = LogisticRegression()\n",
    "  clf_1.fit(x_train, y_train)\n",
    "  y_pred_1 = clf_1.predict(x_test)\n",
    "  accuracy = np.mean(y_pred_1 == y_test)\n",
    "  accuracy_array.append(accuracy)\n",
    "  print(\"Accuracy is :\",  accuracy)\n",
    "print(\"Best accuracy is: \", np.max(accuracy_array))"
   ]
  },
  {
   "cell_type": "code",
   "execution_count": 31,
   "id": "450e2840",
   "metadata": {},
   "outputs": [
    {
     "name": "stdout",
     "output_type": "stream",
     "text": [
      "[[12682     0]\n",
      " [   16     0]]\n",
      "0.9987399590486691\n"
     ]
    }
   ],
   "source": [
    "print(sklearn.metrics.confusion_matrix(y_test_new_1,np.round((y_pred_test))))\n",
    "print(accuracy_score(y_test_new_1, np.round((y_pred_test))) )"
   ]
  },
  {
   "cell_type": "code",
   "execution_count": 32,
   "id": "f180d182",
   "metadata": {},
   "outputs": [
    {
     "name": "stdout",
     "output_type": "stream",
     "text": [
      "fpr:  [0.00000000e+00 7.88519161e-05 1.65273616e-01 1.65273616e-01\n",
      " 1.74578142e-01 1.74578142e-01 1.88929191e-01 1.88929191e-01\n",
      " 3.10203438e-01 3.10203438e-01 7.06197761e-01 7.06197761e-01\n",
      " 8.76202492e-01 8.76202492e-01 9.38180098e-01 9.38180098e-01\n",
      " 9.43542028e-01 1.00000000e+00]\n",
      "tpr:  [0.     0.     0.     0.0625 0.0625 0.1875 0.1875 0.25   0.25   0.3125\n",
      " 0.3125 0.375  0.375  0.4375 0.4375 0.5    0.5    1.    ]\n",
      "auc:  0.2932305630026809\n"
     ]
    }
   ],
   "source": [
    "fpr, tpr, _ = metrics.roc_curve(y_test_new_1,  y_pred_test)\n",
    "auc = metrics.roc_auc_score(y_test_new_1, y_pred_test)\n",
    "print(\"fpr: \", fpr)\n",
    "print(\"tpr: \", tpr)\n",
    "print(\"auc: \",auc)"
   ]
  },
  {
   "cell_type": "code",
   "execution_count": 33,
   "id": "d88e72d8",
   "metadata": {},
   "outputs": [
    {
     "data": {
      "image/png": "[encoded data removed]",
      "text/plain": [
       "<Figure size 432x288 with 1 Axes>"
      ]
     },
     "metadata": {
      "needs_background": "light"
     },
     "output_type": "display_data"
    }
   ],
   "source": [
    "plt.figure()\n",
    "plt.plot(fpr,tpr)\n",
    "plt.ylabel('True Positive Rate')\n",
    "plt.xlabel('False Positive Rate')\n",
    "plt.show()\n"
   ]
  },
  {
   "cell_type": "code",
   "execution_count": null,
   "id": "51dcaa7f",
   "metadata": {},
   "outputs": [],
   "source": []
  }
 ],
 "metadata": {
  "kernelspec": {
   "display_name": "Python 3 (ipykernel)",
   "language": "python",
   "name": "python3"
  },
  "language_info": {
   "codemirror_mode": {
    "name": "ipython",
    "version": 3
   },
   "file_extension": ".py",
   "mimetype": "text/x-python",
   "name": "python",
   "nbconvert_exporter": "python",
   "pygments_lexer": "ipython3",
   "version": "3.9.7"
  }
 },
 "nbformat": 4,
 "nbformat_minor": 5
}
