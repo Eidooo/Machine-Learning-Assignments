{
 "cells": [
  {
   "cell_type": "code",
   "execution_count": 63,
   "id": "d8029d6d",
   "metadata": {},
   "outputs": [],
   "source": [
    "from sklearn.preprocessing import PolynomialFeatures\n",
    "import numpy as np \n",
    "import pandas as pd \n",
    "import matplotlib.pyplot as plt\n",
    "import seaborn as sns \n",
    "import scipy.stats as stats\n",
    "from sklearn.model_selection import train_test_split\n",
    "from sklearn.linear_model import LinearRegression\n",
    "from sklearn.metrics import confusion_matrix\n",
    "from sklearn import metrics\n",
    "from sklearn.metrics import accuracy_score"
   ]
  },
  {
   "cell_type": "code",
   "execution_count": 64,
   "id": "3584f70f",
   "metadata": {},
   "outputs": [],
   "source": [
    "header=['CRIM', 'ZN', 'INDUS', 'CHAS', 'NOX', 'RM', 'AGE', 'DIS', \n",
    "        'RAD', 'TAX', 'PTRATIO', 'B', 'LSTAT', 'MEDV']\n",
    "my_data = pd.read_csv(\"housing.csv\", names=header, delim_whitespace=True)\n",
    "x = my_data.drop(['MEDV'], axis=1)\n",
    "y = my_data.MEDV\n",
    "[rows,columns]=np.shape(x)"
   ]
  },
  {
   "cell_type": "code",
   "execution_count": 65,
   "id": "24c0788a",
   "metadata": {},
   "outputs": [],
   "source": [
    "#Normalization x\n",
    "for i in range(columns):\n",
    "    max_x=max(x.iloc[:,i])\n",
    "    min_x=min(x.iloc[:,i])\n",
    "    x.iloc[:,i]=(x.iloc[:,i]-min_x)/(max_x-min_x)"
   ]
  },
  {
   "cell_type": "code",
   "execution_count": 66,
   "id": "004f8d49",
   "metadata": {},
   "outputs": [],
   "source": [
    "#Normalization y\n",
    "max_y=max(y.iloc[:])\n",
    "min_y=min(y.iloc[:])"
   ]
  },
  {
   "cell_type": "code",
   "execution_count": 67,
   "id": "8ed90aca",
   "metadata": {},
   "outputs": [],
   "source": [
    "def splitTT(X_norm, percentTrain): \n",
    "    # Split dataset into train and test set based on the percentTrain specified\n",
    "    # Random shuffling of data before splitting\n",
    "    np.random.shuffle(np.array(X_norm))\n",
    "    pd.DataFrame(X_norm)\n",
    "    # Get index to split the data and slice the dataset based on the index\n",
    "    index = round(len(X_norm)*percentTrain)\n",
    "    X_train, X_test = X_norm.iloc[:index,:], X_norm.iloc[index:,:]\n",
    "    X_split = [X_train, X_test]\n",
    "    return X_split"
   ]
  },
  {
   "cell_type": "code",
   "execution_count": 68,
   "id": "f258df5f",
   "metadata": {},
   "outputs": [],
   "source": [
    "def splitTTY(Y_norm, percentTrain): \n",
    "    # Split dataset into train and test set based on the percentTrain specified\n",
    "    # Random shuffling of data before splitting\n",
    "    np.random.shuffle(np.array(Y_norm))\n",
    "    pd.DataFrame(Y_norm)\n",
    "    # Get index to split the data and slice the dataset based on the index\n",
    "    index = round(len(Y_norm)*percentTrain)\n",
    "    Y_train, Y_test = Y_norm.iloc[:index], Y_norm.iloc[index:]\n",
    "    Y_split = [Y_train, Y_test]\n",
    "    return Y_split"
   ]
  },
  {
   "cell_type": "code",
   "execution_count": 69,
   "id": "f60f7cd4",
   "metadata": {},
   "outputs": [],
   "source": [
    "x_train,x_test1=splitTT(x,0.6)\n",
    "x_test,x_cv=splitTT(x_test1,0.5)\n",
    "y_train,y_test1=splitTTY(y,0.6)\n",
    "y_test,y_cv=splitTTY(y_test1,0.5)"
   ]
  },
  {
   "cell_type": "code",
   "execution_count": 70,
   "id": "c3effcb3",
   "metadata": {},
   "outputs": [],
   "source": [
    "def rmse(y_test, y_pred):\n",
    "    N = len(y_test)\n",
    "    y_test = np.array(y_test)\n",
    "    y_pred = np.array(y_pred)\n",
    "    mse = np.sum((y_test - y_pred)**2) / (2*N) \n",
    "    rmse = np.sqrt(mse)\n",
    "    return rmse"
   ]
  },
  {
   "cell_type": "code",
   "execution_count": 71,
   "id": "671ee1ef",
   "metadata": {},
   "outputs": [],
   "source": [
    "def rmse_lamda(y_test, y_pred,theta0,theta1):#regularization\n",
    "    cost_reg=100\n",
    "    best_lamda=0\n",
    "    lamda=np.array([0.01,0.02,0.04,0.08,0.16,0.32,0.64,1.28,2.56,5.12,10.24])\n",
    "    N = len(y_test)\n",
    "    for i in range(np.size(lamda)):\n",
    "        y_test = np.array(y_test)\n",
    "        y_pred = np.array(y_pred)\n",
    "        mse = (np.sum((y_test - y_pred)**2) / (2*N))+(lamda[i]/2*N)*((np.sum(theta1**2))+theta0**2) \n",
    "        rmse = np.sqrt(mse)\n",
    "        if rmse<cost_reg:\n",
    "            cost_reg=rmse\n",
    "            best_lamda=lamda[i]\n",
    "    return rmse,best_lamda"
   ]
  },
  {
   "cell_type": "code",
   "execution_count": 72,
   "id": "d881dde5",
   "metadata": {},
   "outputs": [],
   "source": [
    "def gradient_descent(X, y, a = 0.02, epoch = 1000): \n",
    "    dim = len(X.columns)\n",
    "    # Initialise a random bias/beta0 (represented by b) and weights for the regression equation \n",
    "    b = np.random.random()\n",
    "    weights = np.random.rand(dim)#rest of thetas\n",
    "    for e in range(0, epoch+1):\n",
    "        # Calculate the predicted values of y \n",
    "        y_hat = b + np.dot(X, weights) #calc. hypothesis\n",
    "        # Calculate and log RSME and R squared\n",
    "        root_rmse = rmse(y, y_hat) #calc. hypothesis cost\n",
    "        # Update bias/bias0 and weights\n",
    "        b = b - a*((np.sum(y_hat - y)*2)/len(y))\n",
    "        weights = weights - a*((np.dot((y_hat-y),X)*2)/len(y))\n",
    "    return y_hat, b, weights,root_rmse"
   ]
  },
  {
   "cell_type": "code",
   "execution_count": 74,
   "id": "cad24053",
   "metadata": {},
   "outputs": [],
   "source": [
    "cost_cv=100\n",
    "theta0_cv=0\n",
    "theta1_cv=np.zeros(13)\n",
    "for j in range(13):#cross_validation with best alpha to get the best hypothesis order\n",
    "    y_hat, theta0, theta1,root_rmse=gradient_descent(x_train.iloc[:,0:j], y_train, a=0.02 , epoch = 1000)\n",
    "    y_pred= theta0 + np.dot(x_cv.iloc[:,0:j], theta1)\n",
    "    root_cv=rmse(y_cv,y_pred)\n",
    "    root_reg,lamda_best=rmse_lamda(y_cv, y_pred,theta0,theta1)\n",
    "    if root_cv<cost_cv:\n",
    "        cost_cv=root_cv\n",
    "        theta0_cv=theta0\n",
    "        theta1_cv[0:j]=theta1\n",
    "    if root_reg<cost_cv:\n",
    "        cost_cv=root_reg\n",
    "        theta0_cv=theta0\n",
    "        theta1_cv[0:j]=theta1"
   ]
  },
  {
   "cell_type": "code",
   "execution_count": 76,
   "id": "6da86733",
   "metadata": {},
   "outputs": [],
   "source": [
    "y_pred_test=theta0_cv+np.dot(x_test.iloc[:,0:np.size(theta1_cv)], theta1_cv)\n",
    "cost_Y_test=rmse(y_test, y_pred_test)\n",
    "cost_test_reg=rmse(y_test, y_pred_test)+(lamda_best/2*101)*((np.sum(theta1_cv**2))+theta0_cv**2)"
   ]
  },
  {
   "cell_type": "code",
   "execution_count": 81,
   "id": "c53b997d",
   "metadata": {},
   "outputs": [
    {
     "data": {
      "image/png": "[encoded data removed]",
      "text/plain": [
       "<Figure size 432x288 with 1 Axes>"
      ]
     },
     "metadata": {
      "needs_background": "light"
     },
     "output_type": "display_data"
    }
   ],
   "source": [
    "plt.scatter(y_test, y_pred_test) \n",
    "plt.xlabel(\"Price: in $1000's\")\n",
    "plt.ylabel(\"Predicted value\")\n",
    "plt.title(\"True value vs predicted value : Linear Regression\")\n",
    "plt.show()"
   ]
  },
  {
   "cell_type": "code",
   "execution_count": 80,
   "id": "d3ffce53",
   "metadata": {},
   "outputs": [
    {
     "name": "stdout",
     "output_type": "stream",
     "text": [
      "Mean Squared Error:  9.062677026152478\n",
      "Score: 0.06930693069306931\n"
     ]
    }
   ],
   "source": [
    "print('Mean Squared Error: ', np.sqrt(metrics.mean_squared_error(y_test, y_pred_test)))\n",
    "print(\"Score:\", accuracy_score(np.round(y_test), np.round((pd.DataFrame(y_pred_test)))) )"
   ]
  },
  {
   "cell_type": "code",
   "execution_count": null,
   "id": "47bf5db2",
   "metadata": {},
   "outputs": [],
   "source": []
  }
 ],
 "metadata": {
  "kernelspec": {
   "display_name": "Python 3 (ipykernel)",
   "language": "python",
   "name": "python3"
  },
  "language_info": {
   "codemirror_mode": {
    "name": "ipython",
    "version": 3
   },
   "file_extension": ".py",
   "mimetype": "text/x-python",
   "name": "python",
   "nbconvert_exporter": "python",
   "pygments_lexer": "ipython3",
   "version": "3.9.7"
  }
 },
 "nbformat": 4,
 "nbformat_minor": 5
}
